{
 "cells": [
  {
   "cell_type": "code",
   "execution_count": 1,
   "id": "d176cb2f",
   "metadata": {},
   "outputs": [
    {
     "name": "stdout",
     "output_type": "stream",
     "text": [
      "What type of vehicle? car\n",
      "What year was the vehicle made? 2022\n",
      "What is the make of the vehicle? Toyota\n",
      "What is the model of vehicle? Corolla\n",
      "How many doors does the vehicle have, 2 or 4? 4\n",
      "Is the roof 'solid' or 'sun roof'? sun roof\n",
      "Vehicle type: car\n",
      "Year: 2022\n",
      "Make: Toyota\n",
      "Model: Corolla\n",
      "Number of doors: 4\n",
      "Type of roof: sun roof\n",
      "\n"
     ]
    }
   ],
   "source": [
    "# Author: Samantha Smith\n",
    "# File Name: M03 Lab - Case Study - Lists, Functions, and Classes - Samantha Smith.ipynb\n",
    "# Short Desc: This app asks the user to enter the type, year, make, model, number of\n",
    "# doors and the type of roof for a vehicle, then prints the users input to the screen.\n",
    "\n",
    "\n",
    "# Create base class\n",
    "class Vehicle():\n",
    "    def __init__(self, vehicleType):\n",
    "        self.vehicleType = vehicleType\n",
    "\n",
    "# Create subclass that inherits from base class.\n",
    "class Automobile(Vehicle):\n",
    "    def __init__(self, vehicleType, year, make, model, doors, roof):\n",
    "        super().__init__(vehicleType)\n",
    "        self.year = year\n",
    "        self.make = make\n",
    "        self.model = model\n",
    "        self.doors = doors\n",
    "        self.roof = roof \n",
    "\n",
    "    # Create formatted string to return car's attributes for output.\n",
    "    def __str__(self):\n",
    "        return (\n",
    "            f\"Vehicle type: {self.vehicleType}\\n\"\n",
    "            f\"Year: {self.year}\\n\"\n",
    "            f\"Make: {self.make}\\n\"\n",
    "            f\"Model: {self.model}\\n\"\n",
    "            f\"Number of doors: {self.doors}\\n\"\n",
    "            f\"Type of roof: {self.roof}\\n\"\n",
    "        )\n",
    "\n",
    "\n",
    "# Create an instance of car.\n",
    "car = Automobile(\n",
    "    input(\"What type of vehicle? \"),\n",
    "    input(\"What year was the vehicle made? \"),\n",
    "    input(\"What is the make of the vehicle? \"),\n",
    "    input(\"What is the model of vehicle? \"),\n",
    "    input(\"How many doors does the vehicle have, 2 or 4? \"),\n",
    "    input(\"Is the roof 'solid' or 'sun roof'? \"),\n",
    ")\n",
    "\n",
    "# Print or display the car instance created.\n",
    "print(car)"
   ]
  }
 ],
 "metadata": {
  "kernelspec": {
   "display_name": "Python 3 (ipykernel)",
   "language": "python",
   "name": "python3"
  },
  "language_info": {
   "codemirror_mode": {
    "name": "ipython",
    "version": 3
   },
   "file_extension": ".py",
   "mimetype": "text/x-python",
   "name": "python",
   "nbconvert_exporter": "python",
   "pygments_lexer": "ipython3",
   "version": "3.10.9"
  }
 },
 "nbformat": 4,
 "nbformat_minor": 5
}
